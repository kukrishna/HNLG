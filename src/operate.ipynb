{
 "cells": [
  {
   "cell_type": "code",
   "execution_count": 1,
   "metadata": {},
   "outputs": [],
   "source": [
    "import argparse\n",
    "import pickle\n",
    "from model import NLG\n",
    "from data_engine import DataEngine\n",
    "from text_token import _UNK, _PAD, _BOS, _EOS\n",
    "import torch\n",
    "import torch.nn as nn\n",
    "import numpy as np\n",
    "import os\n",
    "from utils import print_config, add_path\n",
    "from model_utils import get_embeddings\n",
    "from argument import define_arguments\n",
    "from utils import get_time\n"
   ]
  },
  {
   "cell_type": "code",
   "execution_count": 2,
   "metadata": {},
   "outputs": [],
   "source": [
    "import torch\n",
    "import torch.nn as nn\n",
    "from torch.autograd import Variable\n",
    "from torch.utils.data import DataLoader\n",
    "from torch.nn.utils import clip_grad_norm\n",
    "\n",
    "import random\n",
    "import numpy as np\n",
    "import os\n",
    "\n",
    "from module import EncoderRNN\n",
    "from module import DecoderRNN\n",
    "# from utils import single_BLEU, BLEU, single_ROUGE, ROUGE, best_ROUGE, print_time_info, check_dir, print_curriculum_status\n",
    "from utils import *\n",
    "from text_token import _UNK, _PAD, _BOS, _EOS\n",
    "from model_utils import collate_fn, build_optimizer\n",
    "from logger import Logger\n",
    "\n",
    "from tqdm import tqdm\n"
   ]
  },
  {
   "cell_type": "code",
   "execution_count": 3,
   "metadata": {},
   "outputs": [],
   "source": [
    "import torch\n",
    "import torch.nn as nn\n",
    "from torch.autograd import Variable\n",
    "from torch.utils.data import DataLoader\n",
    "from torch.nn.utils import clip_grad_norm\n",
    "\n",
    "import random\n",
    "import numpy as np\n",
    "import os\n",
    "\n",
    "from module import EncoderRNN\n",
    "from module import DecoderRNN\n",
    "# from utils import single_BLEU, BLEU, single_ROUGE, ROUGE, best_ROUGE, print_time_info, check_dir, print_curriculum_status\n",
    "from utils import *\n",
    "from text_token import _UNK, _PAD, _BOS, _EOS\n",
    "from model_utils import collate_fn, build_optimizer\n",
    "from logger import Logger\n",
    "\n",
    "from tqdm import tqdm"
   ]
  },
  {
   "cell_type": "code",
   "execution_count": 4,
   "metadata": {},
   "outputs": [],
   "source": [
    "import sys\n",
    "\n",
    "sys.argv=[\"train.py\" ,\"--data_dir=./data/\"]"
   ]
  },
  {
   "cell_type": "code",
   "execution_count": 5,
   "metadata": {},
   "outputs": [
    {
     "name": "stdout",
     "output_type": "stream",
     "text": [
      "\n",
      "PATH:\n",
      "\tData directory: ./data/E2ENLG\n",
      "\tEmbeddings directory: ./data/GloVe\n",
      "\tModel directory: ./data/model_slt\n",
      "\tLog directory: ./data/log_slt\n",
      "\tProcessed train data file: ./data/E2ENLG_train_data.pkl\n",
      "\tProcessed valid data file: ./data/E2ENLG_valid_data.pkl\n",
      "\tProcessed vocab file: ./data/E2ENLG_vocab.pkl\n",
      "DATA:\n",
      "\tDataset: E2ENLG\n",
      "\tRegenerate dataset: False\n",
      "\tFold attributes: True\n",
      "\tVocab size: 500\n",
      "\tUse pretrained embeddings: False\n",
      "MODEL:\n",
      "\tRNN cell: GRU\n",
      "\tDecoder layers: 4\n",
      "\tRNN layers of encoder: 1\n",
      "\tRNN layers of decoder: 1\n",
      "\tHidden size of encoder RNN: 200\n",
      "\tHidden size of decoder RNN: 100\n",
      "\tEncoder embedding layer: False\n",
      "\tDecoder embedding dimension: 50\n",
      "\tAttention method: none\n",
      "\tBidrectional RNN: True\n",
      "\tBatch normalization: False\n",
      "TRAINING:\n",
      "\tTraining epochs: 20\n",
      "\tBatch size: 32\n",
      "\tEncoder optimizer: Adam\n",
      "\tEncoder learning_rate: 0.001\n",
      "\tDecoder optimizer: Adam\n",
      "\tDecoder learning rate: 0.001\n",
      "\tInner teacher forcing ratio: 0.5\n",
      "\tInter teacher forcing ratio: 0.5\n",
      "\tInner teacher forcing decay rate: 0.9\n",
      "\tInter teacher forcing decay rate: 0.9\n",
      "\tInner schedule sampling: True\n",
      "\tInter schedule sampling: True\n",
      "\tCurriculum learning: True\n",
      "\tMax gradient norm: 0.25\n",
      "VERBOSE, VALIDATION AND SAVE:\n",
      "\tVerbose epochs: 0\n",
      "\tVerbose batches: 500\n",
      "\tValidation epochs: 1\n",
      "\tValidation batches: 20\n",
      "\tSave epochs: 1\n",
      "\tLoad old model: False\n"
     ]
    }
   ],
   "source": [
    "_, args = define_arguments()\n",
    "\n",
    "args = add_path(args)\n",
    "if args.verbose_level > 0:\n",
    "    print_config(args)"
   ]
  },
  {
   "cell_type": "code",
   "execution_count": 6,
   "metadata": {},
   "outputs": [
    {
     "name": "stdout",
     "output_type": "stream",
     "text": [
      "[2019-04-30 20:17:08] Use Spacy as the parser\n",
      "[2019-04-30 20:17:08] Read vocab data from ./data/E2ENLG_vocab.pkl\n",
      "[2019-04-30 20:17:08] Load the data from ./data/E2ENLG_train_data.pkl\n",
      "[2019-04-30 20:17:08] Shrink vocab size to 500 + _UNK, _BOS, _EOS, _PAD\n"
     ]
    }
   ],
   "source": [
    "\n",
    "use_cuda = torch.cuda.is_available()\n",
    "train_data_engine = DataEngine(\n",
    "    data_dir=args.data_dir,\n",
    "    dataset=args.dataset,\n",
    "    save_path=args.train_data_file,\n",
    "    vocab_path=args.vocab_file,\n",
    "    is_spacy=args.is_spacy,\n",
    "    is_lemma=args.is_lemma,\n",
    "    fold_attr=args.fold_attr,\n",
    "    use_punct=args.use_punct,\n",
    "    vocab_size=args.vocab_size,\n",
    "    n_layers=args.n_layers,\n",
    "    en_max_length=(args.en_max_length if args.en_max_length != -1 else None),\n",
    "    de_max_length=(args.de_max_length if args.de_max_length != -1 else None),\n",
    "    regen=args.regen,\n",
    "    train=True\n",
    ")"
   ]
  },
  {
   "cell_type": "code",
   "execution_count": 7,
   "metadata": {},
   "outputs": [],
   "source": [
    "train_data_loader = DataLoader(\n",
    "        train_data_engine,\n",
    "        batch_size=8,\n",
    "        shuffle=True,\n",
    "        num_workers=1,\n",
    "        drop_last=True,\n",
    "        collate_fn=collate_fn,\n",
    "        pin_memory=True)"
   ]
  },
  {
   "cell_type": "code",
   "execution_count": 8,
   "metadata": {},
   "outputs": [],
   "source": [
    "one_batch=next(train_data_loader.__iter__())\n",
    "\n",
    "# fish=[]\n",
    "# for b_idx, batch in enumerate(tqdm(train_data_loader)):\n",
    "#     fish.append(batch)\n",
    "#     break\n",
    "# caught_batch=fish[0]"
   ]
  },
  {
   "cell_type": "code",
   "execution_count": 9,
   "metadata": {},
   "outputs": [
    {
     "data": {
      "text/plain": [
       "5"
      ]
     },
     "execution_count": 9,
     "metadata": {},
     "output_type": "execute_result"
    }
   ],
   "source": [
    "len(one_batch)"
   ]
  },
  {
   "cell_type": "code",
   "execution_count": 10,
   "metadata": {},
   "outputs": [],
   "source": [
    "raw_encoder_input, decoder_labels, de_lengths, refs, sf_data = one_batch"
   ]
  },
  {
   "cell_type": "code",
   "execution_count": 11,
   "metadata": {},
   "outputs": [],
   "source": [
    "encoder_input = [\n",
    "        train_data_engine.tokenizer.untokenize(sent, sf_data[idx], is_token=True)\n",
    "        for idx, sent in enumerate(raw_encoder_input)]"
   ]
  },
  {
   "cell_type": "code",
   "execution_count": 16,
   "metadata": {},
   "outputs": [
    {
     "data": {
      "text/plain": [
       "{'_UNK': 0,\n",
       " '_PAD': 1,\n",
       " '_BOS': 2,\n",
       " '_EOS': 3,\n",
       " 'be': 4,\n",
       " 'NAMETOKEN': 5,\n",
       " 'a': 6,\n",
       " 'the': 7,\n",
       " 'NEARTOKEN': 8,\n",
       " 'food': 9,\n",
       " 'in': 10,\n",
       " 'near': 11,\n",
       " 'and': 12,\n",
       " 'of': 13,\n",
       " 'it': 14,\n",
       " 'price': 15,\n",
       " 'friendly': 16,\n",
       " 'rating': 17,\n",
       " 'restaurant': 18,\n",
       " 'locate': 19,\n",
       " 'customer': 20,\n",
       " 'riverside': 21,\n",
       " '5': 22,\n",
       " 'have': 23,\n",
       " 'coffee': 24,\n",
       " 'shop': 25,\n",
       " 'range': 26,\n",
       " 'serve': 27,\n",
       " 'with': 28,\n",
       " 'city': 29,\n",
       " 'out': 30,\n",
       " 'centre': 31,\n",
       " 'family': 32,\n",
       " 'high': 33,\n",
       " 'that': 34,\n",
       " 'pub': 35,\n",
       " 'an': 36,\n",
       " 'not': 37,\n",
       " 'average': 38,\n",
       " 'low': 39,\n",
       " '20': 40,\n",
       " 'area': 41,\n",
       " 'italian': 42,\n",
       " 'fast': 43,\n",
       " 'than': 44,\n",
       " 'japanese': 45,\n",
       " 'french': 46,\n",
       " 'call': 47,\n",
       " 'for': 48,\n",
       " 'indian': 49,\n",
       " 'there': 50,\n",
       " 'rat': 51,\n",
       " 'cheap': 52,\n",
       " 'to': 53,\n",
       " 'familyfriendly': 54,\n",
       " 'at': 55,\n",
       " 'offer': 56,\n",
       " 'english': 57,\n",
       " '1': 58,\n",
       " '3': 59,\n",
       " 'kid': 60,\n",
       " 'children': 61,\n",
       " 'chinese': 62,\n",
       " 'its': 63,\n",
       " 'prices': 64,\n",
       " 'moderate': 65,\n",
       " 'child': 66,\n",
       " '30': 67,\n",
       " 'provide': 68,\n",
       " 'less': 69,\n",
       " 'by': 70,\n",
       " '25': 71,\n",
       " 'more': 72,\n",
       " 'place': 73,\n",
       " 'but': 74,\n",
       " 'they': 75,\n",
       " 'moderately': 76,\n",
       " 'on': 77,\n",
       " 'star': 78,\n",
       " 'ratings': 79,\n",
       " 'which': 80,\n",
       " 'you': 81,\n",
       " 'kids': 82,\n",
       " 'name': 83,\n",
       " 'customers': 84,\n",
       " 'expensive': 85,\n",
       " 'river': 86,\n",
       " 'highly': 87,\n",
       " 'can': 88,\n",
       " 'center': 89,\n",
       " 'find': 90,\n",
       " 'this': 91,\n",
       " 'cuisine': 92,\n",
       " 'cost': 93,\n",
       " 'close': 94,\n",
       " 'from': 95,\n",
       " 'sell': 96,\n",
       " 'sushi': 97,\n",
       " 'also': 98,\n",
       " 'five': 99,\n",
       " 'stars': 100,\n",
       " 'good': 101,\n",
       " 'establishment': 102,\n",
       " 'families': 103,\n",
       " 'great': 104,\n",
       " 'next': 105,\n",
       " 'venue': 106,\n",
       " 'if': 107,\n",
       " 'one': 108,\n",
       " 'pounds': 109,\n",
       " 'environment': 110,\n",
       " 'only': 111,\n",
       " 'childfriendly': 112,\n",
       " 'situate': 113,\n",
       " 'kidfriendly': 114,\n",
       " 'as': 115,\n",
       " 'try': 116,\n",
       " 'eat': 117,\n",
       " 'very': 118,\n",
       " 'receive': 119,\n",
       " 'atmosphere': 120,\n",
       " 'look': 121,\n",
       " 'welcome': 122,\n",
       " 'adult': 123,\n",
       " 'do': 124,\n",
       " 'no': 125,\n",
       " 'inexpensive': 126,\n",
       " 'nt': 127,\n",
       " 'three': 128,\n",
       " 'non': 129,\n",
       " 'their': 130,\n",
       " 'meals': 131,\n",
       " 'north': 132,\n",
       " 's': 133,\n",
       " 'reviews': 134,\n",
       " 'eatery': 135,\n",
       " 'higher': 136,\n",
       " 'will': 137,\n",
       " 'get': 138,\n",
       " 'wine': 139,\n",
       " 'style': 140,\n",
       " 'highpriced': 141,\n",
       " 'give': 142,\n",
       " 'yes': 143,\n",
       " 'quality': 144,\n",
       " 'between': 145,\n",
       " 'affordable': 146,\n",
       " 'medium': 147,\n",
       " 'rate': 148,\n",
       " 'lowpriced': 149,\n",
       " 'along': 150,\n",
       " 'childrenfriendly': 151,\n",
       " 'service': 152,\n",
       " 'go': 153,\n",
       " 'adults': 154,\n",
       " 'over': 155,\n",
       " 'mid': 156,\n",
       " 'your': 157,\n",
       " 'we': 158,\n",
       " 'menu': 159,\n",
       " 'british': 160,\n",
       " 'under': 161,\n",
       " 'euros': 162,\n",
       " 'however': 163,\n",
       " 'meal': 164,\n",
       " 'location': 165,\n",
       " 'kidsfriendly': 166,\n",
       " 'where': 167,\n",
       " 'suitable': 168,\n",
       " 'recommend': 169,\n",
       " 'dining': 170,\n",
       " 'visit': 171,\n",
       " 'excellent': 172,\n",
       " 'then': 173,\n",
       " 'above': 174,\n",
       " 'just': 175,\n",
       " 'although': 176,\n",
       " 'enjoy': 177,\n",
       " 'all': 178,\n",
       " 'allow': 179,\n",
       " 'foods': 180,\n",
       " 'within': 181,\n",
       " 're': 182,\n",
       " 'cheese': 183,\n",
       " 'come': 184,\n",
       " 'whole': 185,\n",
       " 'end': 186,\n",
       " 'poor': 187,\n",
       " 'well': 188,\n",
       " 'reasonable': 189,\n",
       " 'pricing': 190,\n",
       " 'fastfood': 191,\n",
       " 'around': 192,\n",
       " 'dishes': 193,\n",
       " 'i': 194,\n",
       " 'side': 195,\n",
       " 'our': 196,\n",
       " 'outside': 197,\n",
       " 'experience': 198,\n",
       " 'know': 199,\n",
       " 'up': 200,\n",
       " 'reasonably': 201,\n",
       " 'cambridge': 202,\n",
       " 'feature': 203,\n",
       " 'breakfast': 204,\n",
       " 'check': 205,\n",
       " 'midpric': 206,\n",
       " 'nice': 207,\n",
       " 'right': 208,\n",
       " 'down': 209,\n",
       " 'want': 210,\n",
       " 'nearby': 211,\n",
       " 'best': 212,\n",
       " 'though': 213,\n",
       " 'moderatelypric': 214,\n",
       " 'take': 215,\n",
       " 'pasta': 216,\n",
       " 'pricey': 217,\n",
       " 'nonfamilyfriendly': 218,\n",
       " 'while': 219,\n",
       " 'averagely': 220,\n",
       " 'fare': 221,\n",
       " 'poorly': 222,\n",
       " 'or': 223,\n",
       " 'bar': 224,\n",
       " 'orient': 225,\n",
       " 'type': 226,\n",
       " 'some': 227,\n",
       " 'start': 228,\n",
       " 'takeaway': 229,\n",
       " 'town': 230,\n",
       " 'drink': 231,\n",
       " 'satisfaction': 232,\n",
       " 'delicious': 233,\n",
       " 'bring': 234,\n",
       " 'fine': 235,\n",
       " 'available': 236,\n",
       " 'review': 237,\n",
       " 'sit': 238,\n",
       " 'burgers': 239,\n",
       " 'fries': 240,\n",
       " 'joint': 241,\n",
       " 'cater': 242,\n",
       " 'budget': 243,\n",
       " 'dine': 244,\n",
       " 'would': 245,\n",
       " 'lower': 246,\n",
       " 'consider': 247,\n",
       " 'onestar': 248,\n",
       " 'fairly': 249,\n",
       " 'conveniently': 250,\n",
       " 'quite': 251,\n",
       " 'l20': 252,\n",
       " 'café': 253,\n",
       " 'variety': 254,\n",
       " '5star': 255,\n",
       " 'base': 256,\n",
       " 'beside': 257,\n",
       " 'option': 258,\n",
       " 'per': 259,\n",
       " 'so': 260,\n",
       " 'traditional': 261,\n",
       " 'midrange': 262,\n",
       " 'view': 263,\n",
       " 'boast': 264,\n",
       " 'below': 265,\n",
       " 'about': 266,\n",
       " 'new': 267,\n",
       " 'setting': 268,\n",
       " 'too': 269,\n",
       " 'decent': 270,\n",
       " 'items': 271,\n",
       " 'may': 272,\n",
       " 'american': 273,\n",
       " 'wines': 274,\n",
       " 'deliveries': 275,\n",
       " 'drinks': 276,\n",
       " 'choice': 277,\n",
       " 'like': 278,\n",
       " 'lowcost': 279,\n",
       " 'rank': 280,\n",
       " 'head': 281,\n",
       " 'perfect': 282,\n",
       " 'love': 283,\n",
       " '3star': 284,\n",
       " 'costumer': 285,\n",
       " 'specialize': 286,\n",
       " 'public': 287,\n",
       " 'highlyrat': 288,\n",
       " 'popular': 289,\n",
       " 'costs': 290,\n",
       " 'middle': 291,\n",
       " 'deliver': 292,\n",
       " 'cheaply': 293,\n",
       " 'pay': 294,\n",
       " 'fivestar': 295,\n",
       " 'fair': 296,\n",
       " 'little': 297,\n",
       " 'threestar': 298,\n",
       " 'even': 299,\n",
       " 'ranges': 300,\n",
       " 'amazing': 301,\n",
       " 'earn': 302,\n",
       " 'burger': 303,\n",
       " 'road': 304,\n",
       " 'point': 305,\n",
       " 'cheeses': 306,\n",
       " 'twenty': 307,\n",
       " 'offering': 308,\n",
       " 'expect': 309,\n",
       " 'value': 310,\n",
       " 'far': 311,\n",
       " 'set': 312,\n",
       " 'dollars': 313,\n",
       " 'spend': 314,\n",
       " 'outskirts': 315,\n",
       " 'across': 316,\n",
       " 'friend': 317,\n",
       " 'people': 318,\n",
       " 'make': 319,\n",
       " 'nonfamily': 320,\n",
       " 'highend': 321,\n",
       " 'upscale': 322,\n",
       " 'full': 323,\n",
       " 'bad': 324,\n",
       " 'score': 325,\n",
       " 'here': 326,\n",
       " 'spirits': 327,\n",
       " 'local': 328,\n",
       " 'us': 329,\n",
       " 'home': 330,\n",
       " 'open': 331,\n",
       " 'lowrated': 332,\n",
       " 'both': 333,\n",
       " 'friends': 334,\n",
       " 'house': 335,\n",
       " '1star': 336,\n",
       " 'bit': 337,\n",
       " 'away': 338,\n",
       " 'midprice': 339,\n",
       " 'slightly': 340,\n",
       " 'despite': 341,\n",
       " 'include': 342,\n",
       " 'really': 343,\n",
       " 'ideal': 344,\n",
       " 'other': 345,\n",
       " 'worth': 346,\n",
       " 'typically': 347,\n",
       " 'unfortunately': 348,\n",
       " 'yet': 349,\n",
       " 'beautiful': 350,\n",
       " 'asian': 351,\n",
       " 'please': 352,\n",
       " 'who': 353,\n",
       " 'could': 354,\n",
       " 'l30': 355,\n",
       " 'because': 356,\n",
       " 'options': 357,\n",
       " 'those': 358,\n",
       " 'should': 359,\n",
       " 'small': 360,\n",
       " 'services': 361,\n",
       " 'night': 362,\n",
       " 'money': 363,\n",
       " 'stop': 364,\n",
       " 'top': 365,\n",
       " 'lovely': 366,\n",
       " 'pretty': 367,\n",
       " 'outlet': 368,\n",
       " 'off': 369,\n",
       " 'pound': 370,\n",
       " 'person': 371,\n",
       " 'rates': 372,\n",
       " 'lowly': 373,\n",
       " 'overall': 374,\n",
       " 'usually': 375,\n",
       " 'restaurants': 376,\n",
       " 'spaghetti': 377,\n",
       " 'nonkid': 378,\n",
       " 'nonchildren': 379,\n",
       " 'costly': 380,\n",
       " 'when': 381,\n",
       " 'offers': 382,\n",
       " 'store': 383,\n",
       " 'what': 384,\n",
       " 'further': 385,\n",
       " 'theme': 386,\n",
       " 'fall': 387,\n",
       " 'lowprice': 388,\n",
       " 'quick': 389,\n",
       " 'spot': 390,\n",
       " 'outstanding': 391,\n",
       " 'sure': 392,\n",
       " 'hamburgers': 393,\n",
       " 'costing': 394,\n",
       " 'averagepriced': 395,\n",
       " 'them': 396,\n",
       " 'say': 397,\n",
       " 'due': 398,\n",
       " 'bracket': 399,\n",
       " 'selection': 400,\n",
       " 'neat': 401,\n",
       " 'wide': 402,\n",
       " 'nonchild': 403,\n",
       " 'beverages': 404,\n",
       " 'among': 405,\n",
       " 'plus': 406,\n",
       " 'ages': 407,\n",
       " 'leave': 408,\n",
       " 'suit': 409,\n",
       " 'dinner': 410,\n",
       " 'after': 411,\n",
       " 'fantastic': 412,\n",
       " 'generally': 413,\n",
       " 'moderatepriced': 414,\n",
       " 'oriental': 415,\n",
       " 'n': 416,\n",
       " 'many': 417,\n",
       " 'riverfront': 418,\n",
       " 'short': 419,\n",
       " 'charge': 420,\n",
       " 'heart': 421,\n",
       " 'typical': 422,\n",
       " 'without': 423,\n",
       " 'server': 424,\n",
       " 'hold': 425,\n",
       " 'caters': 426,\n",
       " 'most': 427,\n",
       " 'permit': 428,\n",
       " 'luton': 429,\n",
       " 'ship': 430,\n",
       " 'wonderful': 431,\n",
       " 'shops': 432,\n",
       " 'averagerat': 433,\n",
       " 'east': 434,\n",
       " 'currently': 435,\n",
       " 'age': 436,\n",
       " 'r': 437,\n",
       " 'alcohol': 438,\n",
       " 'district': 439,\n",
       " 'none': 440,\n",
       " 'superb': 441,\n",
       " 'views': 442,\n",
       " 'centrally': 443,\n",
       " 'consumer': 444,\n",
       " 'unfriendly': 445,\n",
       " 'buy': 446,\n",
       " 'tasty': 447,\n",
       " 'moderatelypriced': 448,\n",
       " 'authentic': 449,\n",
       " 'class': 450,\n",
       " 'convenient': 451,\n",
       " 'distance': 452,\n",
       " 'snacks': 453,\n",
       " '4': 454,\n",
       " 'join': 455,\n",
       " 't': 456,\n",
       " 'names': 457,\n",
       " 'whose': 458,\n",
       " 'free': 459,\n",
       " 'e': 460,\n",
       " 'ca': 461,\n",
       " 'now': 462,\n",
       " 'fruit': 463,\n",
       " 'restrooms': 464,\n",
       " 'euro': 465,\n",
       " 'seafood': 466,\n",
       " 'lowrat': 467,\n",
       " 'favorite': 468,\n",
       " 'relatively': 469,\n",
       " 'lie': 470,\n",
       " 'much': 471,\n",
       " 'grub': 472,\n",
       " 'premium': 473,\n",
       " 'previous': 474,\n",
       " 'scores': 475,\n",
       " 'ranged': 476,\n",
       " 'quiet': 477,\n",
       " 'note': 478,\n",
       " 'o': 479,\n",
       " 'familys': 480,\n",
       " 'clentele': 481,\n",
       " 'taste': 482,\n",
       " 'south': 483,\n",
       " 'thames': 484,\n",
       " '35': 485,\n",
       " 'mediumpriced': 486,\n",
       " 'must': 487,\n",
       " 'cheaper': 488,\n",
       " 'greater': 489,\n",
       " 'tasting': 490,\n",
       " 'light': 491,\n",
       " 'list': 492,\n",
       " 'order': 493,\n",
       " 'entire': 494,\n",
       " 'h': 495,\n",
       " '5of5': 496,\n",
       " 'servers': 497,\n",
       " 'places': 498,\n",
       " 'he': 499,\n",
       " 'upper': 500,\n",
       " 'highrat': 501,\n",
       " 'lunch': 502,\n",
       " 'thirty': 503}"
      ]
     },
     "execution_count": 16,
     "metadata": {},
     "output_type": "execute_result"
    }
   ],
   "source": [
    "train_data_engine.tokenizer.vocab"
   ]
  },
  {
   "cell_type": "code",
   "execution_count": 17,
   "metadata": {},
   "outputs": [
    {
     "data": {
      "text/plain": [
       "{'_UNK': 0,\n",
       " '_PAD': 1,\n",
       " 'NAME': 2,\n",
       " 'name': 3,\n",
       " 'food': 4,\n",
       " 'priceRange': 5,\n",
       " 'customer rating': 6,\n",
       " 'familyFriendly': 7,\n",
       " 'area': 8,\n",
       " 'NEAR': 9,\n",
       " 'near': 10,\n",
       " 'eatType': 11,\n",
       " 'yes': 12,\n",
       " 'riverside': 13,\n",
       " 'coffee shop': 14,\n",
       " 'high': 15,\n",
       " 'no': 16,\n",
       " 'city centre': 17,\n",
       " 'pub': 18,\n",
       " 'japanese': 19,\n",
       " 'italian': 20,\n",
       " 'fast food': 21,\n",
       " 'french': 22,\n",
       " 'moderate': 23,\n",
       " 'less than 20': 24,\n",
       " 'average': 25,\n",
       " 'low': 26,\n",
       " '5 out of 5': 27,\n",
       " 'more than 30': 28,\n",
       " 'indian': 29,\n",
       " '1 out of 5': 30,\n",
       " 'cheap': 31,\n",
       " 'english': 32,\n",
       " '3 out of 5': 33,\n",
       " '20-25': 34,\n",
       " 'restaurant': 35,\n",
       " 'chinese': 36}"
      ]
     },
     "execution_count": 17,
     "metadata": {},
     "output_type": "execute_result"
    }
   ],
   "source": [
    "train_data_engine.tokenizer.token_vocab"
   ]
  },
  {
   "cell_type": "code",
   "execution_count": 12,
   "metadata": {},
   "outputs": [],
   "source": [
    "tokenvocabkeys=set(train_data_engine.tokenizer.token_vocab.keys())"
   ]
  },
  {
   "cell_type": "code",
   "execution_count": 13,
   "metadata": {},
   "outputs": [],
   "source": [
    "vocabkeys=set(train_data_engine.tokenizer.vocab.keys())"
   ]
  },
  {
   "cell_type": "code",
   "execution_count": 14,
   "metadata": {},
   "outputs": [
    {
     "data": {
      "text/plain": [
       "37"
      ]
     },
     "execution_count": 14,
     "metadata": {},
     "output_type": "execute_result"
    }
   ],
   "source": [
    "len(tokenvocabkeys)"
   ]
  },
  {
   "cell_type": "code",
   "execution_count": 15,
   "metadata": {},
   "outputs": [
    {
     "data": {
      "text/plain": [
       "{'1 out of 5',\n",
       " '20-25',\n",
       " '3 out of 5',\n",
       " '5 out of 5',\n",
       " 'NAME',\n",
       " 'NEAR',\n",
       " 'city centre',\n",
       " 'coffee shop',\n",
       " 'customer rating',\n",
       " 'eatType',\n",
       " 'familyFriendly',\n",
       " 'fast food',\n",
       " 'less than 20',\n",
       " 'more than 30',\n",
       " 'priceRange'}"
      ]
     },
     "execution_count": 15,
     "metadata": {},
     "output_type": "execute_result"
    }
   ],
   "source": [
    "#tokenvocabkeys.intersection(vocabkeys)\n",
    "tokenvocabkeys.difference(tokenvocabkeys.intersection(vocabkeys))\n"
   ]
  },
  {
   "cell_type": "code",
   "execution_count": 103,
   "metadata": {},
   "outputs": [
    {
     "name": "stdout",
     "output_type": "stream",
     "text": [
      "0 0\n",
      "1 1\n",
      "3 83\n",
      "4 9\n",
      "8 41\n",
      "10 11\n",
      "12 143\n",
      "13 21\n",
      "15 33\n",
      "16 125\n",
      "18 35\n",
      "19 45\n",
      "20 42\n",
      "22 46\n",
      "23 65\n",
      "25 38\n",
      "26 39\n",
      "29 49\n",
      "31 52\n",
      "32 57\n",
      "35 18\n",
      "36 62\n"
     ]
    }
   ],
   "source": [
    "\n",
    "copy_map={}\n",
    "\n",
    "for _word, _id in train_data_engine.tokenizer.token_vocab.items():\n",
    "    if _word in train_data_engine.tokenizer.vocab:\n",
    "        print(_id, train_data_engine.tokenizer.vocab[_word])"
   ]
  },
  {
   "cell_type": "code",
   "execution_count": 1,
   "metadata": {},
   "outputs": [],
   "source": [
    "import torch"
   ]
  },
  {
   "cell_type": "code",
   "execution_count": 3,
   "metadata": {},
   "outputs": [
    {
     "data": {
      "text/plain": [
       "torch.nn.modules.activation.Softmax"
      ]
     },
     "execution_count": 3,
     "metadata": {},
     "output_type": "execute_result"
    }
   ],
   "source": [
    "torch.nn.Softmax"
   ]
  },
  {
   "cell_type": "code",
   "execution_count": 42,
   "metadata": {},
   "outputs": [],
   "source": [
    "empty=torch.zeros(4,2)"
   ]
  },
  {
   "cell_type": "code",
   "execution_count": 79,
   "metadata": {},
   "outputs": [],
   "source": [
    "copy_probabilities=torch.zeros(4,5)  # batchsizexout_vocab\n",
    "       "
   ]
  },
  {
   "cell_type": "code",
   "execution_count": 80,
   "metadata": {},
   "outputs": [
    {
     "data": {
      "text/plain": [
       "tensor([[0., 0., 0., 0., 0.],\n",
       "        [0., 0., 0., 0., 0.],\n",
       "        [0., 0., 0., 0., 0.],\n",
       "        [0., 0., 0., 0., 0.]])"
      ]
     },
     "execution_count": 80,
     "metadata": {},
     "output_type": "execute_result"
    }
   ],
   "source": [
    "copy_probabilities"
   ]
  },
  {
   "cell_type": "code",
   "execution_count": 81,
   "metadata": {},
   "outputs": [],
   "source": [
    "x=np.array([[0,1,2,3], [0,1,2,3]]).transpose()"
   ]
  },
  {
   "cell_type": "code",
   "execution_count": 85,
   "metadata": {},
   "outputs": [],
   "source": [
    "vals=np.array([[0.1,0.3,0.5,0.6], [-0.2,-0.3,-0.5,-0.6]]).transpose()"
   ]
  },
  {
   "cell_type": "code",
   "execution_count": 86,
   "metadata": {},
   "outputs": [],
   "source": [
    "encoder_input=torch.tensor(x)\n",
    "attn_weights=torch.tensor(vals).type(torch.float)"
   ]
  },
  {
   "cell_type": "code",
   "execution_count": 87,
   "metadata": {},
   "outputs": [
    {
     "data": {
      "text/plain": [
       "tensor([[-0.1000,  0.0000,  0.0000,  0.0000,  0.0000],\n",
       "        [ 0.0000,  0.0000,  0.0000,  0.0000,  0.0000],\n",
       "        [ 0.0000,  0.0000,  0.0000,  0.0000,  0.0000],\n",
       "        [ 0.0000,  0.0000,  0.0000,  0.0000,  0.0000]])"
      ]
     },
     "execution_count": 87,
     "metadata": {},
     "output_type": "execute_result"
    }
   ],
   "source": [
    "copy_probabilities.scatter_add_(1, encoder_input, attn_weights)\n"
   ]
  },
  {
   "cell_type": "code",
   "execution_count": 89,
   "metadata": {},
   "outputs": [],
   "source": []
  },
  {
   "cell_type": "code",
   "execution_count": 98,
   "metadata": {},
   "outputs": [],
   "source": [
    "emb.weight.data=torch.tensor(np.arange(37).reshape(37,1))"
   ]
  },
  {
   "cell_type": "code",
   "execution_count": 99,
   "metadata": {},
   "outputs": [],
   "source": [
    "emb.weight.requires_grad=False"
   ]
  },
  {
   "cell_type": "code",
   "execution_count": 102,
   "metadata": {},
   "outputs": [
    {
     "data": {
      "text/plain": [
       "'torch.LongTensor'"
      ]
     },
     "execution_count": 102,
     "metadata": {},
     "output_type": "execute_result"
    }
   ],
   "source": [
    "emb(torch.tensor([1,2,3,4])).type()"
   ]
  },
  {
   "cell_type": "code",
   "execution_count": 108,
   "metadata": {},
   "outputs": [],
   "source": [
    "mapping_list=[0 for _ in range(len(train_data_engine.tokenizer.token_vocab.keys()))]\n",
    "\n",
    "for _word, _id in train_data_engine.tokenizer.token_vocab.items():\n",
    "    if _word in train_data_engine.tokenizer.vocab:\n",
    "        mapping_list[_id]=train_data_engine.tokenizer.vocab[_word]\n",
    "        \n",
    "emb=torch.nn.Embedding(len(mapping_list),1)\n",
    "emb.weight.data=torch.tensor(np.array(mapping_list).reshape(-1,1)).cuda()\n",
    "emb.weight.requires_grad=False"
   ]
  },
  {
   "cell_type": "code",
   "execution_count": 116,
   "metadata": {},
   "outputs": [
    {
     "data": {
      "text/plain": [
       "tensor([[ 0,  1,  0, 83,  9],\n",
       "        [ 0,  0,  0, 83,  9]], device='cuda:0')"
      ]
     },
     "execution_count": 116,
     "metadata": {},
     "output_type": "execute_result"
    }
   ],
   "source": [
    "emb(torch.tensor([[0,1,2,3,4], [0,5,2,3,4]]).cuda()).squeeze(2)"
   ]
  },
  {
   "cell_type": "code",
   "execution_count": 117,
   "metadata": {},
   "outputs": [
    {
     "data": {
      "text/plain": [
       "<function _VariableFunctions.log>"
      ]
     },
     "execution_count": 117,
     "metadata": {},
     "output_type": "execute_result"
    }
   ],
   "source": [
    "torch.log"
   ]
  },
  {
   "cell_type": "code",
   "execution_count": 121,
   "metadata": {},
   "outputs": [],
   "source": [
    "a=torch.tensor([[1,2,3,4.0],[6,7,8,9]])"
   ]
  },
  {
   "cell_type": "code",
   "execution_count": 127,
   "metadata": {},
   "outputs": [],
   "source": [
    "b=a.sum(dim=1).view(-1,1)"
   ]
  },
  {
   "cell_type": "code",
   "execution_count": 131,
   "metadata": {},
   "outputs": [],
   "source": [
    "import sys"
   ]
  },
  {
   "cell_type": "code",
   "execution_count": 132,
   "metadata": {},
   "outputs": [],
   "source": [
    "sys.stdout.flush()"
   ]
  },
  {
   "cell_type": "code",
   "execution_count": null,
   "metadata": {},
   "outputs": [],
   "source": []
  },
  {
   "cell_type": "code",
   "execution_count": null,
   "metadata": {},
   "outputs": [],
   "source": []
  },
  {
   "cell_type": "code",
   "execution_count": null,
   "metadata": {},
   "outputs": [],
   "source": []
  },
  {
   "cell_type": "markdown",
   "metadata": {},
   "source": [
    "## output samples"
   ]
  },
  {
   "cell_type": "code",
   "execution_count": 2,
   "metadata": {},
   "outputs": [],
   "source": [
    "#train_data_engine.sf_data"
   ]
  },
  {
   "cell_type": "code",
   "execution_count": 13,
   "metadata": {},
   "outputs": [
    {
     "data": {
      "text/plain": [
       "(8, 18)"
      ]
     },
     "execution_count": 13,
     "metadata": {},
     "output_type": "execute_result"
    }
   ],
   "source": [
    "decoder_labels[2].shape"
   ]
  },
  {
   "cell_type": "code",
   "execution_count": 56,
   "metadata": {},
   "outputs": [
    {
     "data": {
      "text/plain": [
       "['NAMETOKEN',\n",
       " 'be',\n",
       " 'riverside',\n",
       " 'child',\n",
       " 'place',\n",
       " 'be',\n",
       " 'locate',\n",
       " 'NEARTOKEN',\n",
       " '_EOS',\n",
       " '_PAD',\n",
       " '_PAD',\n",
       " '_PAD',\n",
       " '_PAD',\n",
       " '_PAD']"
      ]
     },
     "execution_count": 56,
     "metadata": {},
     "output_type": "execute_result"
    }
   ],
   "source": [
    "train_data_engine.tokenizer.untokenize(decoder_labels[1][7], sf_data)"
   ]
  },
  {
   "cell_type": "code",
   "execution_count": 41,
   "metadata": {},
   "outputs": [
    {
     "data": {
      "text/plain": [
       "['_PAD',\n",
       " '_PAD',\n",
       " '_PAD',\n",
       " '_PAD',\n",
       " 'name',\n",
       " 'NAME',\n",
       " 'eatType',\n",
       " 'pub',\n",
       " 'food',\n",
       " 'japanese',\n",
       " 'priceRange',\n",
       " '20-25',\n",
       " 'customer rating',\n",
       " 'high']"
      ]
     },
     "execution_count": 41,
     "metadata": {},
     "output_type": "execute_result"
    }
   ],
   "source": [
    "train_data_engine.tokenizer.untokenize(raw_encoder_input[1], sf_data, is_token=True)"
   ]
  },
  {
   "cell_type": "code",
   "execution_count": 59,
   "metadata": {},
   "outputs": [
    {
     "data": {
      "text/plain": [
       "['NAMETOKEN',\n",
       " 'be',\n",
       " 'a',\n",
       " 'restaurant',\n",
       " 'which',\n",
       " 'serve',\n",
       " 'japanese',\n",
       " 'cuisine',\n",
       " 'NAMETOKEN',\n",
       " 'be',\n",
       " 'a',\n",
       " 'pub',\n",
       " 'and',\n",
       " 'have',\n",
       " 'an',\n",
       " 'average',\n",
       " 'price',\n",
       " 'range',\n",
       " 'along',\n",
       " 'with',\n",
       " 'a',\n",
       " 'high',\n",
       " 'customer',\n",
       " 'rating',\n",
       " '_PAD',\n",
       " '_PAD',\n",
       " '_PAD',\n",
       " '_PAD']"
      ]
     },
     "execution_count": 59,
     "metadata": {},
     "output_type": "execute_result"
    }
   ],
   "source": [
    "train_data_engine.tokenizer.untokenize(refs[1][0], sf_data, is_token=False)"
   ]
  },
  {
   "cell_type": "code",
   "execution_count": null,
   "metadata": {},
   "outputs": [],
   "source": []
  },
  {
   "cell_type": "code",
   "execution_count": null,
   "metadata": {},
   "outputs": [],
   "source": []
  }
 ],
 "metadata": {
  "kernelspec": {
   "display_name": "Python 3",
   "language": "python",
   "name": "python3"
  },
  "language_info": {
   "codemirror_mode": {
    "name": "ipython",
    "version": 3
   },
   "file_extension": ".py",
   "mimetype": "text/x-python",
   "name": "python",
   "nbconvert_exporter": "python",
   "pygments_lexer": "ipython3",
   "version": "3.6.7"
  },
  "varInspector": {
   "cols": {
    "lenName": 16,
    "lenType": 16,
    "lenVar": 40
   },
   "kernels_config": {
    "python": {
     "delete_cmd_postfix": "",
     "delete_cmd_prefix": "del ",
     "library": "var_list.py",
     "varRefreshCmd": "print(var_dic_list())"
    },
    "r": {
     "delete_cmd_postfix": ") ",
     "delete_cmd_prefix": "rm(",
     "library": "var_list.r",
     "varRefreshCmd": "cat(var_dic_list()) "
    }
   },
   "types_to_exclude": [
    "module",
    "function",
    "builtin_function_or_method",
    "instance",
    "_Feature"
   ],
   "window_display": false
  }
 },
 "nbformat": 4,
 "nbformat_minor": 2
}
