{
 "cells": [
  {
   "cell_type": "code",
   "execution_count": 1,
   "metadata": {},
   "outputs": [],
   "source": [
    "import argparse\n",
    "import pickle\n",
    "from model import NLG\n",
    "from data_engine import DataEngine\n",
    "from text_token import _UNK, _PAD, _BOS, _EOS\n",
    "import torch\n",
    "import torch.nn as nn\n",
    "import numpy as np\n",
    "import os\n",
    "from utils import print_config, add_path\n",
    "from model_utils import get_embeddings\n",
    "from argument import define_arguments\n",
    "from utils import get_time\n"
   ]
  },
  {
   "cell_type": "code",
   "execution_count": 2,
   "metadata": {},
   "outputs": [],
   "source": [
    "import torch\n",
    "import torch.nn as nn\n",
    "from torch.autograd import Variable\n",
    "from torch.utils.data import DataLoader\n",
    "from torch.nn.utils import clip_grad_norm\n",
    "\n",
    "import random\n",
    "import numpy as np\n",
    "import os\n",
    "\n",
    "from module import EncoderRNN\n",
    "from module import DecoderRNN\n",
    "# from utils import single_BLEU, BLEU, single_ROUGE, ROUGE, best_ROUGE, print_time_info, check_dir, print_curriculum_status\n",
    "from utils import *\n",
    "from text_token import _UNK, _PAD, _BOS, _EOS\n",
    "from model_utils import collate_fn, build_optimizer\n",
    "from logger import Logger\n",
    "\n",
    "from tqdm import tqdm\n"
   ]
  },
  {
   "cell_type": "code",
   "execution_count": 3,
   "metadata": {},
   "outputs": [],
   "source": [
    "import torch\n",
    "import torch.nn as nn\n",
    "from torch.autograd import Variable\n",
    "from torch.utils.data import DataLoader\n",
    "from torch.nn.utils import clip_grad_norm\n",
    "\n",
    "import random\n",
    "import numpy as np\n",
    "import os\n",
    "\n",
    "from module import EncoderRNN\n",
    "from module import DecoderRNN\n",
    "# from utils import single_BLEU, BLEU, single_ROUGE, ROUGE, best_ROUGE, print_time_info, check_dir, print_curriculum_status\n",
    "from utils import *\n",
    "from text_token import _UNK, _PAD, _BOS, _EOS\n",
    "from model_utils import collate_fn, build_optimizer\n",
    "from logger import Logger\n",
    "\n",
    "from tqdm import tqdm"
   ]
  },
  {
   "cell_type": "code",
   "execution_count": 4,
   "metadata": {},
   "outputs": [],
   "source": [
    "import sys\n",
    "\n",
    "sys.argv=[\"train.py\" ,\"--data_dir=./data/\"]"
   ]
  },
  {
   "cell_type": "code",
   "execution_count": 5,
   "metadata": {},
   "outputs": [
    {
     "name": "stdout",
     "output_type": "stream",
     "text": [
      "\n",
      "PATH:\n",
      "\tData directory: ./data/E2ENLG\n",
      "\tEmbeddings directory: ./data/GloVe\n",
      "\tModel directory: ./data/model_slt\n",
      "\tLog directory: ./data/log_slt\n",
      "\tProcessed train data file: ./data/E2ENLG_train_data.pkl\n",
      "\tProcessed valid data file: ./data/E2ENLG_valid_data.pkl\n",
      "\tProcessed vocab file: ./data/E2ENLG_vocab.pkl\n",
      "DATA:\n",
      "\tDataset: E2ENLG\n",
      "\tRegenerate dataset: False\n",
      "\tFold attributes: True\n",
      "\tVocab size: 500\n",
      "\tUse pretrained embeddings: False\n",
      "MODEL:\n",
      "\tRNN cell: GRU\n",
      "\tDecoder layers: 4\n",
      "\tRNN layers of encoder: 1\n",
      "\tRNN layers of decoder: 1\n",
      "\tHidden size of encoder RNN: 200\n",
      "\tHidden size of decoder RNN: 100\n",
      "\tEncoder embedding layer: False\n",
      "\tDecoder embedding dimension: 50\n",
      "\tAttention method: none\n",
      "\tBidrectional RNN: True\n",
      "\tBatch normalization: False\n",
      "TRAINING:\n",
      "\tTraining epochs: 20\n",
      "\tBatch size: 32\n",
      "\tEncoder optimizer: Adam\n",
      "\tEncoder learning_rate: 0.001\n",
      "\tDecoder optimizer: Adam\n",
      "\tDecoder learning rate: 0.001\n",
      "\tInner teacher forcing ratio: 0.5\n",
      "\tInter teacher forcing ratio: 0.5\n",
      "\tInner teacher forcing decay rate: 0.9\n",
      "\tInter teacher forcing decay rate: 0.9\n",
      "\tInner schedule sampling: True\n",
      "\tInter schedule sampling: True\n",
      "\tCurriculum learning: True\n",
      "\tMax gradient norm: 0.25\n",
      "VERBOSE, VALIDATION AND SAVE:\n",
      "\tVerbose epochs: 0\n",
      "\tVerbose batches: 500\n",
      "\tValidation epochs: 1\n",
      "\tValidation batches: 20\n",
      "\tSave epochs: 1\n",
      "\tLoad old model: False\n"
     ]
    }
   ],
   "source": [
    "_, args = define_arguments()\n",
    "\n",
    "args = add_path(args)\n",
    "if args.verbose_level > 0:\n",
    "    print_config(args)"
   ]
  },
  {
   "cell_type": "code",
   "execution_count": 6,
   "metadata": {},
   "outputs": [
    {
     "name": "stdout",
     "output_type": "stream",
     "text": [
      "[2019-04-29 23:43:26] Use Spacy as the parser\n",
      "[2019-04-29 23:43:26] Read vocab data from ./data/E2ENLG_vocab.pkl\n",
      "[2019-04-29 23:43:26] Load the data from ./data/E2ENLG_train_data.pkl\n",
      "[2019-04-29 23:43:26] Shrink vocab size to 500 + _UNK, _BOS, _EOS, _PAD\n"
     ]
    }
   ],
   "source": [
    "\n",
    "use_cuda = torch.cuda.is_available()\n",
    "train_data_engine = DataEngine(\n",
    "    data_dir=args.data_dir,\n",
    "    dataset=args.dataset,\n",
    "    save_path=args.train_data_file,\n",
    "    vocab_path=args.vocab_file,\n",
    "    is_spacy=args.is_spacy,\n",
    "    is_lemma=args.is_lemma,\n",
    "    fold_attr=args.fold_attr,\n",
    "    use_punct=args.use_punct,\n",
    "    vocab_size=args.vocab_size,\n",
    "    n_layers=args.n_layers,\n",
    "    en_max_length=(args.en_max_length if args.en_max_length != -1 else None),\n",
    "    de_max_length=(args.de_max_length if args.de_max_length != -1 else None),\n",
    "    regen=args.regen,\n",
    "    train=True\n",
    ")"
   ]
  },
  {
   "cell_type": "code",
   "execution_count": 7,
   "metadata": {},
   "outputs": [],
   "source": [
    "train_data_loader = DataLoader(\n",
    "        train_data_engine,\n",
    "        batch_size=8,\n",
    "        shuffle=True,\n",
    "        num_workers=1,\n",
    "        drop_last=True,\n",
    "        collate_fn=collate_fn,\n",
    "        pin_memory=True)"
   ]
  },
  {
   "cell_type": "code",
   "execution_count": 8,
   "metadata": {},
   "outputs": [],
   "source": [
    "one_batch=next(train_data_loader.__iter__())\n",
    "\n",
    "# fish=[]\n",
    "# for b_idx, batch in enumerate(tqdm(train_data_loader)):\n",
    "#     fish.append(batch)\n",
    "#     break\n",
    "# caught_batch=fish[0]"
   ]
  },
  {
   "cell_type": "code",
   "execution_count": 9,
   "metadata": {},
   "outputs": [
    {
     "data": {
      "text/plain": [
       "5"
      ]
     },
     "execution_count": 9,
     "metadata": {},
     "output_type": "execute_result"
    }
   ],
   "source": [
    "len(one_batch)"
   ]
  },
  {
   "cell_type": "code",
   "execution_count": 10,
   "metadata": {},
   "outputs": [],
   "source": [
    "raw_encoder_input, decoder_labels, de_lengths, refs, sf_data = one_batch"
   ]
  },
  {
   "cell_type": "code",
   "execution_count": 11,
   "metadata": {},
   "outputs": [],
   "source": [
    "encoder_input = [\n",
    "        train_data_engine.tokenizer.untokenize(sent, sf_data[idx], is_token=True)\n",
    "        for idx, sent in enumerate(raw_encoder_input)]"
   ]
  },
  {
   "cell_type": "code",
   "execution_count": null,
   "metadata": {},
   "outputs": [],
   "source": []
  },
  {
   "cell_type": "code",
   "execution_count": 12,
   "metadata": {},
   "outputs": [],
   "source": [
    "tokenvocabkeys=set(train_data_engine.tokenizer.token_vocab.keys())"
   ]
  },
  {
   "cell_type": "code",
   "execution_count": 13,
   "metadata": {},
   "outputs": [],
   "source": [
    "vocabkeys=set(train_data_engine.tokenizer.vocab.keys())"
   ]
  },
  {
   "cell_type": "code",
   "execution_count": 14,
   "metadata": {},
   "outputs": [
    {
     "data": {
      "text/plain": [
       "37"
      ]
     },
     "execution_count": 14,
     "metadata": {},
     "output_type": "execute_result"
    }
   ],
   "source": [
    "len(tokenvocabkeys)"
   ]
  },
  {
   "cell_type": "code",
   "execution_count": 15,
   "metadata": {},
   "outputs": [
    {
     "data": {
      "text/plain": [
       "{'1 out of 5',\n",
       " '20-25',\n",
       " '3 out of 5',\n",
       " '5 out of 5',\n",
       " 'NAME',\n",
       " 'NEAR',\n",
       " 'city centre',\n",
       " 'coffee shop',\n",
       " 'customer rating',\n",
       " 'eatType',\n",
       " 'familyFriendly',\n",
       " 'fast food',\n",
       " 'less than 20',\n",
       " 'more than 30',\n",
       " 'priceRange'}"
      ]
     },
     "execution_count": 15,
     "metadata": {},
     "output_type": "execute_result"
    }
   ],
   "source": [
    "#tokenvocabkeys.intersection(vocabkeys)\n",
    "tokenvocabkeys.difference(tokenvocabkeys.intersection(vocabkeys))\n"
   ]
  },
  {
   "cell_type": "code",
   "execution_count": 103,
   "metadata": {},
   "outputs": [
    {
     "name": "stdout",
     "output_type": "stream",
     "text": [
      "0 0\n",
      "1 1\n",
      "3 83\n",
      "4 9\n",
      "8 41\n",
      "10 11\n",
      "12 143\n",
      "13 21\n",
      "15 33\n",
      "16 125\n",
      "18 35\n",
      "19 45\n",
      "20 42\n",
      "22 46\n",
      "23 65\n",
      "25 38\n",
      "26 39\n",
      "29 49\n",
      "31 52\n",
      "32 57\n",
      "35 18\n",
      "36 62\n"
     ]
    }
   ],
   "source": [
    "\n",
    "copy_map={}\n",
    "\n",
    "for _word, _id in train_data_engine.tokenizer.token_vocab.items():\n",
    "    if _word in train_data_engine.tokenizer.vocab:\n",
    "        print(_id, train_data_engine.tokenizer.vocab[_word])"
   ]
  },
  {
   "cell_type": "code",
   "execution_count": null,
   "metadata": {},
   "outputs": [],
   "source": []
  },
  {
   "cell_type": "code",
   "execution_count": 1,
   "metadata": {},
   "outputs": [],
   "source": [
    "import torch"
   ]
  },
  {
   "cell_type": "code",
   "execution_count": 3,
   "metadata": {},
   "outputs": [
    {
     "data": {
      "text/plain": [
       "torch.nn.modules.activation.Softmax"
      ]
     },
     "execution_count": 3,
     "metadata": {},
     "output_type": "execute_result"
    }
   ],
   "source": [
    "torch.nn.Softmax"
   ]
  },
  {
   "cell_type": "code",
   "execution_count": 42,
   "metadata": {},
   "outputs": [],
   "source": [
    "empty=torch.zeros(4,2)"
   ]
  },
  {
   "cell_type": "code",
   "execution_count": 79,
   "metadata": {},
   "outputs": [],
   "source": [
    "copy_probabilities=torch.zeros(4,5)  # batchsizexout_vocab\n",
    "       "
   ]
  },
  {
   "cell_type": "code",
   "execution_count": 80,
   "metadata": {},
   "outputs": [
    {
     "data": {
      "text/plain": [
       "tensor([[0., 0., 0., 0., 0.],\n",
       "        [0., 0., 0., 0., 0.],\n",
       "        [0., 0., 0., 0., 0.],\n",
       "        [0., 0., 0., 0., 0.]])"
      ]
     },
     "execution_count": 80,
     "metadata": {},
     "output_type": "execute_result"
    }
   ],
   "source": [
    "copy_probabilities"
   ]
  },
  {
   "cell_type": "code",
   "execution_count": 81,
   "metadata": {},
   "outputs": [],
   "source": [
    "x=np.array([[0,1,2,3], [0,1,2,3]]).transpose()"
   ]
  },
  {
   "cell_type": "code",
   "execution_count": 85,
   "metadata": {},
   "outputs": [],
   "source": [
    "vals=np.array([[0.1,0.3,0.5,0.6], [-0.2,-0.3,-0.5,-0.6]]).transpose()"
   ]
  },
  {
   "cell_type": "code",
   "execution_count": 86,
   "metadata": {},
   "outputs": [],
   "source": [
    "encoder_input=torch.tensor(x)\n",
    "attn_weights=torch.tensor(vals).type(torch.float)"
   ]
  },
  {
   "cell_type": "code",
   "execution_count": 87,
   "metadata": {},
   "outputs": [
    {
     "data": {
      "text/plain": [
       "tensor([[-0.1000,  0.0000,  0.0000,  0.0000,  0.0000],\n",
       "        [ 0.0000,  0.0000,  0.0000,  0.0000,  0.0000],\n",
       "        [ 0.0000,  0.0000,  0.0000,  0.0000,  0.0000],\n",
       "        [ 0.0000,  0.0000,  0.0000,  0.0000,  0.0000]])"
      ]
     },
     "execution_count": 87,
     "metadata": {},
     "output_type": "execute_result"
    }
   ],
   "source": [
    "copy_probabilities.scatter_add_(1, encoder_input, attn_weights)\n"
   ]
  },
  {
   "cell_type": "code",
   "execution_count": 89,
   "metadata": {},
   "outputs": [],
   "source": []
  },
  {
   "cell_type": "code",
   "execution_count": 98,
   "metadata": {},
   "outputs": [],
   "source": [
    "emb.weight.data=torch.tensor(np.arange(37).reshape(37,1))"
   ]
  },
  {
   "cell_type": "code",
   "execution_count": 99,
   "metadata": {},
   "outputs": [],
   "source": [
    "emb.weight.requires_grad=False"
   ]
  },
  {
   "cell_type": "code",
   "execution_count": 102,
   "metadata": {},
   "outputs": [
    {
     "data": {
      "text/plain": [
       "'torch.LongTensor'"
      ]
     },
     "execution_count": 102,
     "metadata": {},
     "output_type": "execute_result"
    }
   ],
   "source": [
    "emb(torch.tensor([1,2,3,4])).type()"
   ]
  },
  {
   "cell_type": "code",
   "execution_count": 108,
   "metadata": {},
   "outputs": [],
   "source": [
    "mapping_list=[0 for _ in range(len(train_data_engine.tokenizer.token_vocab.keys()))]\n",
    "\n",
    "for _word, _id in train_data_engine.tokenizer.token_vocab.items():\n",
    "    if _word in train_data_engine.tokenizer.vocab:\n",
    "        mapping_list[_id]=train_data_engine.tokenizer.vocab[_word]\n",
    "        \n",
    "emb=torch.nn.Embedding(len(mapping_list),1)\n",
    "emb.weight.data=torch.tensor(np.array(mapping_list).reshape(-1,1)).cuda()\n",
    "emb.weight.requires_grad=False"
   ]
  },
  {
   "cell_type": "code",
   "execution_count": 116,
   "metadata": {},
   "outputs": [
    {
     "data": {
      "text/plain": [
       "tensor([[ 0,  1,  0, 83,  9],\n",
       "        [ 0,  0,  0, 83,  9]], device='cuda:0')"
      ]
     },
     "execution_count": 116,
     "metadata": {},
     "output_type": "execute_result"
    }
   ],
   "source": [
    "emb(torch.tensor([[0,1,2,3,4], [0,5,2,3,4]]).cuda()).squeeze(2)"
   ]
  },
  {
   "cell_type": "code",
   "execution_count": 117,
   "metadata": {},
   "outputs": [
    {
     "data": {
      "text/plain": [
       "<function _VariableFunctions.log>"
      ]
     },
     "execution_count": 117,
     "metadata": {},
     "output_type": "execute_result"
    }
   ],
   "source": [
    "torch.log"
   ]
  },
  {
   "cell_type": "code",
   "execution_count": 121,
   "metadata": {},
   "outputs": [],
   "source": [
    "a=torch.tensor([[1,2,3,4.0],[6,7,8,9]])"
   ]
  },
  {
   "cell_type": "code",
   "execution_count": 127,
   "metadata": {},
   "outputs": [],
   "source": [
    "b=a.sum(dim=1).view(-1,1)"
   ]
  },
  {
   "cell_type": "code",
   "execution_count": 131,
   "metadata": {},
   "outputs": [],
   "source": [
    "import sys"
   ]
  },
  {
   "cell_type": "code",
   "execution_count": 132,
   "metadata": {},
   "outputs": [],
   "source": [
    "sys.stdout.flush()"
   ]
  },
  {
   "cell_type": "code",
   "execution_count": null,
   "metadata": {},
   "outputs": [],
   "source": []
  },
  {
   "cell_type": "code",
   "execution_count": null,
   "metadata": {},
   "outputs": [],
   "source": []
  },
  {
   "cell_type": "code",
   "execution_count": null,
   "metadata": {},
   "outputs": [],
   "source": []
  },
  {
   "cell_type": "markdown",
   "metadata": {},
   "source": [
    "## output samples"
   ]
  },
  {
   "cell_type": "code",
   "execution_count": 2,
   "metadata": {},
   "outputs": [],
   "source": [
    "#train_data_engine.sf_data"
   ]
  },
  {
   "cell_type": "code",
   "execution_count": 13,
   "metadata": {},
   "outputs": [
    {
     "data": {
      "text/plain": [
       "(8, 18)"
      ]
     },
     "execution_count": 13,
     "metadata": {},
     "output_type": "execute_result"
    }
   ],
   "source": [
    "decoder_labels[2].shape"
   ]
  },
  {
   "cell_type": "code",
   "execution_count": 56,
   "metadata": {},
   "outputs": [
    {
     "data": {
      "text/plain": [
       "['NAMETOKEN',\n",
       " 'be',\n",
       " 'riverside',\n",
       " 'child',\n",
       " 'place',\n",
       " 'be',\n",
       " 'locate',\n",
       " 'NEARTOKEN',\n",
       " '_EOS',\n",
       " '_PAD',\n",
       " '_PAD',\n",
       " '_PAD',\n",
       " '_PAD',\n",
       " '_PAD']"
      ]
     },
     "execution_count": 56,
     "metadata": {},
     "output_type": "execute_result"
    }
   ],
   "source": [
    "train_data_engine.tokenizer.untokenize(decoder_labels[1][7], sf_data)"
   ]
  },
  {
   "cell_type": "code",
   "execution_count": 41,
   "metadata": {},
   "outputs": [
    {
     "data": {
      "text/plain": [
       "['_PAD',\n",
       " '_PAD',\n",
       " '_PAD',\n",
       " '_PAD',\n",
       " 'name',\n",
       " 'NAME',\n",
       " 'eatType',\n",
       " 'pub',\n",
       " 'food',\n",
       " 'japanese',\n",
       " 'priceRange',\n",
       " '20-25',\n",
       " 'customer rating',\n",
       " 'high']"
      ]
     },
     "execution_count": 41,
     "metadata": {},
     "output_type": "execute_result"
    }
   ],
   "source": [
    "train_data_engine.tokenizer.untokenize(raw_encoder_input[1], sf_data, is_token=True)"
   ]
  },
  {
   "cell_type": "code",
   "execution_count": 59,
   "metadata": {},
   "outputs": [
    {
     "data": {
      "text/plain": [
       "['NAMETOKEN',\n",
       " 'be',\n",
       " 'a',\n",
       " 'restaurant',\n",
       " 'which',\n",
       " 'serve',\n",
       " 'japanese',\n",
       " 'cuisine',\n",
       " 'NAMETOKEN',\n",
       " 'be',\n",
       " 'a',\n",
       " 'pub',\n",
       " 'and',\n",
       " 'have',\n",
       " 'an',\n",
       " 'average',\n",
       " 'price',\n",
       " 'range',\n",
       " 'along',\n",
       " 'with',\n",
       " 'a',\n",
       " 'high',\n",
       " 'customer',\n",
       " 'rating',\n",
       " '_PAD',\n",
       " '_PAD',\n",
       " '_PAD',\n",
       " '_PAD']"
      ]
     },
     "execution_count": 59,
     "metadata": {},
     "output_type": "execute_result"
    }
   ],
   "source": [
    "train_data_engine.tokenizer.untokenize(refs[1][0], sf_data, is_token=False)"
   ]
  },
  {
   "cell_type": "code",
   "execution_count": null,
   "metadata": {},
   "outputs": [],
   "source": []
  },
  {
   "cell_type": "code",
   "execution_count": null,
   "metadata": {},
   "outputs": [],
   "source": []
  }
 ],
 "metadata": {
  "kernelspec": {
   "display_name": "Python 3",
   "language": "python",
   "name": "python3"
  },
  "language_info": {
   "codemirror_mode": {
    "name": "ipython",
    "version": 3
   },
   "file_extension": ".py",
   "mimetype": "text/x-python",
   "name": "python",
   "nbconvert_exporter": "python",
   "pygments_lexer": "ipython3",
   "version": "3.6.7"
  },
  "varInspector": {
   "cols": {
    "lenName": 16,
    "lenType": 16,
    "lenVar": 40
   },
   "kernels_config": {
    "python": {
     "delete_cmd_postfix": "",
     "delete_cmd_prefix": "del ",
     "library": "var_list.py",
     "varRefreshCmd": "print(var_dic_list())"
    },
    "r": {
     "delete_cmd_postfix": ") ",
     "delete_cmd_prefix": "rm(",
     "library": "var_list.r",
     "varRefreshCmd": "cat(var_dic_list()) "
    }
   },
   "types_to_exclude": [
    "module",
    "function",
    "builtin_function_or_method",
    "instance",
    "_Feature"
   ],
   "window_display": false
  }
 },
 "nbformat": 4,
 "nbformat_minor": 2
}
