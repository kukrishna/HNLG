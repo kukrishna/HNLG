{
 "cells": [
  {
   "cell_type": "code",
   "execution_count": 1,
   "metadata": {},
   "outputs": [],
   "source": [
    "import argparse\n",
    "import pickle\n",
    "from model import NLG\n",
    "from data_engine import DataEngine\n",
    "from text_token import _UNK, _PAD, _BOS, _EOS\n",
    "import torch\n",
    "import torch.nn as nn\n",
    "import numpy as np\n",
    "import os\n",
    "from utils import print_config, add_path\n",
    "from model_utils import get_embeddings\n",
    "from argument import define_arguments\n",
    "from utils import get_time\n"
   ]
  },
  {
   "cell_type": "code",
   "execution_count": 14,
   "metadata": {},
   "outputs": [],
   "source": [
    "import torch\n",
    "import torch.nn as nn\n",
    "from torch.autograd import Variable\n",
    "from torch.utils.data import DataLoader\n",
    "from torch.nn.utils import clip_grad_norm\n",
    "\n",
    "import random\n",
    "import numpy as np\n",
    "import os\n",
    "\n",
    "from module import EncoderRNN\n",
    "from module import DecoderRNN\n",
    "# from utils import single_BLEU, BLEU, single_ROUGE, ROUGE, best_ROUGE, print_time_info, check_dir, print_curriculum_status\n",
    "from utils import *\n",
    "from text_token import _UNK, _PAD, _BOS, _EOS\n",
    "from model_utils import collate_fn, build_optimizer\n",
    "from logger import Logger\n",
    "\n",
    "from tqdm import tqdm\n"
   ]
  },
  {
   "cell_type": "code",
   "execution_count": 2,
   "metadata": {},
   "outputs": [],
   "source": [
    "import torch\n",
    "import torch.nn as nn\n",
    "from torch.autograd import Variable\n",
    "from torch.utils.data import DataLoader\n",
    "from torch.nn.utils import clip_grad_norm\n",
    "\n",
    "import random\n",
    "import numpy as np\n",
    "import os\n",
    "\n",
    "from module import EncoderRNN\n",
    "from module import DecoderRNN\n",
    "# from utils import single_BLEU, BLEU, single_ROUGE, ROUGE, best_ROUGE, print_time_info, check_dir, print_curriculum_status\n",
    "from utils import *\n",
    "from text_token import _UNK, _PAD, _BOS, _EOS\n",
    "from model_utils import collate_fn, build_optimizer\n",
    "from logger import Logger\n",
    "\n",
    "from tqdm import tqdm"
   ]
  },
  {
   "cell_type": "code",
   "execution_count": 11,
   "metadata": {},
   "outputs": [],
   "source": [
    "import sys\n",
    "\n",
    "sys.argv=[\"train.py\" ,\"--data_dir=./data/\"]"
   ]
  },
  {
   "cell_type": "code",
   "execution_count": 12,
   "metadata": {},
   "outputs": [
    {
     "name": "stdout",
     "output_type": "stream",
     "text": [
      "\n",
      "PATH:\n",
      "\tData directory: ./data/E2ENLG\n",
      "\tEmbeddings directory: ./data/GloVe\n",
      "\tModel directory: ./data/model_slt\n",
      "\tLog directory: ./data/log_slt\n",
      "\tProcessed train data file: ./data/E2ENLG_train_data.pkl\n",
      "\tProcessed valid data file: ./data/E2ENLG_valid_data.pkl\n",
      "\tProcessed vocab file: ./data/E2ENLG_vocab.pkl\n",
      "DATA:\n",
      "\tDataset: E2ENLG\n",
      "\tRegenerate dataset: False\n",
      "\tFold attributes: True\n",
      "\tVocab size: 500\n",
      "\tUse pretrained embeddings: False\n",
      "MODEL:\n",
      "\tRNN cell: GRU\n",
      "\tDecoder layers: 4\n",
      "\tRNN layers of encoder: 1\n",
      "\tRNN layers of decoder: 1\n",
      "\tHidden size of encoder RNN: 200\n",
      "\tHidden size of decoder RNN: 100\n",
      "\tEncoder embedding layer: False\n",
      "\tDecoder embedding dimension: 50\n",
      "\tAttention method: none\n",
      "\tBidrectional RNN: True\n",
      "\tBatch normalization: False\n",
      "TRAINING:\n",
      "\tTraining epochs: 20\n",
      "\tBatch size: 32\n",
      "\tEncoder optimizer: Adam\n",
      "\tEncoder learning_rate: 0.001\n",
      "\tDecoder optimizer: Adam\n",
      "\tDecoder learning rate: 0.001\n",
      "\tInner teacher forcing ratio: 0.5\n",
      "\tInter teacher forcing ratio: 0.5\n",
      "\tInner teacher forcing decay rate: 0.9\n",
      "\tInter teacher forcing decay rate: 0.9\n",
      "\tInner schedule sampling: True\n",
      "\tInter schedule sampling: True\n",
      "\tCurriculum learning: True\n",
      "\tMax gradient norm: 0.25\n",
      "VERBOSE, VALIDATION AND SAVE:\n",
      "\tVerbose epochs: 0\n",
      "\tVerbose batches: 500\n",
      "\tValidation epochs: 1\n",
      "\tValidation batches: 20\n",
      "\tSave epochs: 1\n",
      "\tLoad old model: False\n"
     ]
    }
   ],
   "source": [
    "_, args = define_arguments()\n",
    "\n",
    "args = add_path(args)\n",
    "if args.verbose_level > 0:\n",
    "    print_config(args)"
   ]
  },
  {
   "cell_type": "code",
   "execution_count": 13,
   "metadata": {},
   "outputs": [
    {
     "name": "stdout",
     "output_type": "stream",
     "text": [
      "[2019-04-28 02:30:55] Use Spacy as the parser\n",
      "[2019-04-28 02:30:55] Read vocab data from ./data/E2ENLG_vocab.pkl\n",
      "[2019-04-28 02:30:55] Load the data from ./data/E2ENLG_train_data.pkl\n",
      "[2019-04-28 02:30:55] Shrink vocab size to 500 + _UNK, _BOS, _EOS, _PAD\n"
     ]
    }
   ],
   "source": [
    "\n",
    "use_cuda = torch.cuda.is_available()\n",
    "train_data_engine = DataEngine(\n",
    "    data_dir=args.data_dir,\n",
    "    dataset=args.dataset,\n",
    "    save_path=args.train_data_file,\n",
    "    vocab_path=args.vocab_file,\n",
    "    is_spacy=args.is_spacy,\n",
    "    is_lemma=args.is_lemma,\n",
    "    fold_attr=args.fold_attr,\n",
    "    use_punct=args.use_punct,\n",
    "    vocab_size=args.vocab_size,\n",
    "    n_layers=args.n_layers,\n",
    "    en_max_length=(args.en_max_length if args.en_max_length != -1 else None),\n",
    "    de_max_length=(args.de_max_length if args.de_max_length != -1 else None),\n",
    "    regen=args.regen,\n",
    "    train=True\n",
    ")"
   ]
  },
  {
   "cell_type": "code",
   "execution_count": 15,
   "metadata": {},
   "outputs": [],
   "source": [
    "train_data_loader = DataLoader(\n",
    "        train_data_engine,\n",
    "        batch_size=16,\n",
    "        shuffle=True,\n",
    "        num_workers=1,\n",
    "        drop_last=True,\n",
    "        collate_fn=collate_fn,\n",
    "        pin_memory=True)"
   ]
  },
  {
   "cell_type": "code",
   "execution_count": 24,
   "metadata": {},
   "outputs": [],
   "source": [
    "one_batch=next(train_data_loader.__iter__())\n",
    "\n",
    "# fish=[]\n",
    "# for b_idx, batch in enumerate(tqdm(train_data_loader)):\n",
    "#     fish.append(batch)\n",
    "#     break\n",
    "# caught_batch=fish[0]"
   ]
  },
  {
   "cell_type": "code",
   "execution_count": 26,
   "metadata": {},
   "outputs": [
    {
     "data": {
      "text/plain": [
       "5"
      ]
     },
     "execution_count": 26,
     "metadata": {},
     "output_type": "execute_result"
    }
   ],
   "source": [
    "len(one_batch)"
   ]
  },
  {
   "cell_type": "code",
   "execution_count": 27,
   "metadata": {},
   "outputs": [],
   "source": [
    "raw_encoder_input, decoder_labels, de_lengths, refs, sf_data = one_batch"
   ]
  },
  {
   "cell_type": "code",
   "execution_count": 47,
   "metadata": {},
   "outputs": [],
   "source": [
    "encoder_input = [\n",
    "        train_data_engine.tokenizer.untokenize(sent, sf_data[idx], is_token=True)\n",
    "        for idx, sent in enumerate(raw_encoder_input)]"
   ]
  },
  {
   "cell_type": "code",
   "execution_count": 56,
   "metadata": {},
   "outputs": [],
   "source": [
    "#train_data_engine.sf_data"
   ]
  },
  {
   "cell_type": "code",
   "execution_count": 60,
   "metadata": {},
   "outputs": [
    {
     "data": {
      "text/plain": [
       "(16, 22)"
      ]
     },
     "execution_count": 60,
     "metadata": {},
     "output_type": "execute_result"
    }
   ],
   "source": [
    "decoder_labels[2].shape"
   ]
  },
  {
   "cell_type": "code",
   "execution_count": null,
   "metadata": {},
   "outputs": [],
   "source": []
  },
  {
   "cell_type": "code",
   "execution_count": null,
   "metadata": {},
   "outputs": [],
   "source": []
  },
  {
   "cell_type": "code",
   "execution_count": null,
   "metadata": {},
   "outputs": [],
   "source": []
  }
 ],
 "metadata": {
  "kernelspec": {
   "display_name": "Python 3",
   "language": "python",
   "name": "python3"
  },
  "language_info": {
   "codemirror_mode": {
    "name": "ipython",
    "version": 3
   },
   "file_extension": ".py",
   "mimetype": "text/x-python",
   "name": "python",
   "nbconvert_exporter": "python",
   "pygments_lexer": "ipython3",
   "version": "3.6.7"
  },
  "varInspector": {
   "cols": {
    "lenName": 16,
    "lenType": 16,
    "lenVar": 40
   },
   "kernels_config": {
    "python": {
     "delete_cmd_postfix": "",
     "delete_cmd_prefix": "del ",
     "library": "var_list.py",
     "varRefreshCmd": "print(var_dic_list())"
    },
    "r": {
     "delete_cmd_postfix": ") ",
     "delete_cmd_prefix": "rm(",
     "library": "var_list.r",
     "varRefreshCmd": "cat(var_dic_list()) "
    }
   },
   "types_to_exclude": [
    "module",
    "function",
    "builtin_function_or_method",
    "instance",
    "_Feature"
   ],
   "window_display": false
  }
 },
 "nbformat": 4,
 "nbformat_minor": 2
}
